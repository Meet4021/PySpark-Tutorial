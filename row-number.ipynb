{
 "cells": [
  {
   "cell_type": "markdown",
   "metadata": {},
   "source": [
    "# Window Function (PySpark)"
   ]
  },
  {
   "cell_type": "code",
   "execution_count": 1,
   "metadata": {},
   "outputs": [],
   "source": [
    "from pyspark.sql import SparkSession\n",
    "import pyspark.sql.functions as F\n",
    "from pyspark.sql import Window"
   ]
  },
  {
   "cell_type": "code",
   "execution_count": 2,
   "metadata": {},
   "outputs": [],
   "source": [
    "spark = SparkSession.builder.getOrCreate()"
   ]
  },
  {
   "cell_type": "code",
   "execution_count": 3,
   "metadata": {},
   "outputs": [],
   "source": [
    "df = spark.read.csv(\"emp.csv\", inferSchema=True,\n",
    "                   header=True)"
   ]
  },
  {
   "cell_type": "code",
   "execution_count": 4,
   "metadata": {},
   "outputs": [
    {
     "name": "stdout",
     "output_type": "stream",
     "text": [
      "+----+--------+--------+\n",
      "|year|    dept|  salary|\n",
      "+----+--------+--------+\n",
      "|2004|      IT| 3324172|\n",
      "|2004|      IT| 3324172|\n",
      "|2004|Accounts| 4409580|\n",
      "|2004|      HR|  211648|\n",
      "|2004|   Sales|  902053|\n",
      "|2004|      IT| 1005417|\n",
      "|2004|Accounts|    3645|\n",
      "|2005|      IT| 2974005|\n",
      "|2005|      IT| 2974005|\n",
      "|2005|Accounts| 4239440|\n",
      "|2005|      HR|  114120|\n",
      "|2005|   Sales| 1215112|\n",
      "|2005|      IT|  773217|\n",
      "|2005|Accounts|    3101|\n",
      "|2006|      IT| 3285138|\n",
      "|2006|      IT|65932248|\n",
      "|2006|Accounts|    3642|\n",
      "|2006|      HR|   67236|\n",
      "|2006|   Sales|  836424|\n",
      "|2006|      IT| 1095922|\n",
      "+----+--------+--------+\n",
      "only showing top 20 rows\n",
      "\n"
     ]
    }
   ],
   "source": [
    "df.show()"
   ]
  },
  {
   "cell_type": "code",
   "execution_count": 5,
   "metadata": {},
   "outputs": [
    {
     "data": {
      "text/plain": [
       "119"
      ]
     },
     "execution_count": 5,
     "metadata": {},
     "output_type": "execute_result"
    }
   ],
   "source": [
    "df.count()"
   ]
  },
  {
   "cell_type": "code",
   "execution_count": 6,
   "metadata": {},
   "outputs": [],
   "source": [
    "windowSpec  = Window.partitionBy(\"dept\").orderBy(\"salary\")"
   ]
  },
  {
   "cell_type": "code",
   "execution_count": 10,
   "metadata": {},
   "outputs": [
    {
     "name": "stdout",
     "output_type": "stream",
     "text": [
      "+----+-----+-------+----------+\n",
      "|year| dept| salary|row_number|\n",
      "+----+-----+-------+----------+\n",
      "|2015|Sales| 164874|         1|\n",
      "|2016|Sales| 164874|         2|\n",
      "|2014|Sales| 170952|         3|\n",
      "|2019|Sales| 192922|         4|\n",
      "|2020|Sales| 192922|         5|\n",
      "|2018|Sales| 196338|         6|\n",
      "|2017|Sales| 203907|         7|\n",
      "|2010|Sales| 211866|         8|\n",
      "|2013|Sales| 217037|         9|\n",
      "|2012|Sales| 257114|        10|\n",
      "|2011|Sales| 285572|        11|\n",
      "|2007|Sales| 772173|        12|\n",
      "|2008|Sales| 772173|        13|\n",
      "|2009|Sales| 772173|        14|\n",
      "|2006|Sales| 836424|        15|\n",
      "|2004|Sales| 902053|        16|\n",
      "|2005|Sales|1215112|        17|\n",
      "|2017|   HR|  51834|         1|\n",
      "|2018|   HR|  51834|         2|\n",
      "|2020|   HR|  53407|         3|\n",
      "+----+-----+-------+----------+\n",
      "only showing top 20 rows\n",
      "\n"
     ]
    }
   ],
   "source": [
    "df.withColumn(\"row_number\",F.row_number().over(windowSpec)) \\\n",
    "    .show()"
   ]
  },
  {
   "cell_type": "code",
   "execution_count": 8,
   "metadata": {},
   "outputs": [
    {
     "name": "stdout",
     "output_type": "stream",
     "text": [
      "+----+-----+-------+-----+\n",
      "|year| dept| salary|ntile|\n",
      "+----+-----+-------+-----+\n",
      "|2015|Sales| 164874|    1|\n",
      "|2016|Sales| 164874|    1|\n",
      "|2014|Sales| 170952|    1|\n",
      "|2019|Sales| 192922|    1|\n",
      "|2020|Sales| 192922|    1|\n",
      "|2018|Sales| 196338|    1|\n",
      "|2017|Sales| 203907|    1|\n",
      "|2010|Sales| 211866|    1|\n",
      "|2013|Sales| 217037|    1|\n",
      "|2012|Sales| 257114|    2|\n",
      "|2011|Sales| 285572|    2|\n",
      "|2007|Sales| 772173|    2|\n",
      "|2008|Sales| 772173|    2|\n",
      "|2009|Sales| 772173|    2|\n",
      "|2006|Sales| 836424|    2|\n",
      "|2004|Sales| 902053|    2|\n",
      "|2005|Sales|1215112|    2|\n",
      "|2017|   HR|  51834|    1|\n",
      "|2018|   HR|  51834|    1|\n",
      "|2020|   HR|  53407|    1|\n",
      "+----+-----+-------+-----+\n",
      "only showing top 20 rows\n",
      "\n"
     ]
    }
   ],
   "source": [
    "df.withColumn(\"ntile\",F.ntile(2).over(windowSpec)) \\\n",
    "    .show()"
   ]
  },
  {
   "cell_type": "code",
   "execution_count": 9,
   "metadata": {},
   "outputs": [
    {
     "name": "stdout",
     "output_type": "stream",
     "text": [
      "+----+-----+-------+-------------------+\n",
      "|year| dept| salary|          cume_dist|\n",
      "+----+-----+-------+-------------------+\n",
      "|2015|Sales| 164874|0.11764705882352941|\n",
      "|2016|Sales| 164874|0.11764705882352941|\n",
      "|2014|Sales| 170952|0.17647058823529413|\n",
      "|2019|Sales| 192922|0.29411764705882354|\n",
      "|2020|Sales| 192922|0.29411764705882354|\n",
      "|2018|Sales| 196338|0.35294117647058826|\n",
      "|2017|Sales| 203907| 0.4117647058823529|\n",
      "|2010|Sales| 211866|0.47058823529411764|\n",
      "|2013|Sales| 217037| 0.5294117647058824|\n",
      "|2012|Sales| 257114| 0.5882352941176471|\n",
      "|2011|Sales| 285572| 0.6470588235294118|\n",
      "|2007|Sales| 772173| 0.8235294117647058|\n",
      "|2008|Sales| 772173| 0.8235294117647058|\n",
      "|2009|Sales| 772173| 0.8235294117647058|\n",
      "|2006|Sales| 836424| 0.8823529411764706|\n",
      "|2004|Sales| 902053| 0.9411764705882353|\n",
      "|2005|Sales|1215112|                1.0|\n",
      "|2017|   HR|  51834|0.11764705882352941|\n",
      "|2018|   HR|  51834|0.11764705882352941|\n",
      "|2020|   HR|  53407|0.17647058823529413|\n",
      "+----+-----+-------+-------------------+\n",
      "only showing top 20 rows\n",
      "\n"
     ]
    }
   ],
   "source": [
    "df.withColumn(\"cume_dist\",F.cume_dist().over(windowSpec)) \\\n",
    "   .show()"
   ]
  },
  {
   "cell_type": "code",
   "execution_count": null,
   "metadata": {},
   "outputs": [],
   "source": []
  }
 ],
 "metadata": {
  "kernelspec": {
   "display_name": "Python 3",
   "language": "python",
   "name": "python3"
  },
  "language_info": {
   "codemirror_mode": {
    "name": "ipython",
    "version": 3
   },
   "file_extension": ".py",
   "mimetype": "text/x-python",
   "name": "python",
   "nbconvert_exporter": "python",
   "pygments_lexer": "ipython3",
   "version": "3.8.3"
  }
 },
 "nbformat": 4,
 "nbformat_minor": 4
}
