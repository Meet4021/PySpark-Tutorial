{
 "cells": [
  {
   "cell_type": "code",
   "execution_count": 1,
   "metadata": {},
   "outputs": [],
   "source": [
    "from pyspark.sql import SparkSession\n",
    "from pyspark.ml.feature import OneHotEncoder"
   ]
  },
  {
   "cell_type": "code",
   "execution_count": 2,
   "metadata": {},
   "outputs": [],
   "source": [
    "spark = SparkSession.builder.getOrCreate()"
   ]
  },
  {
   "cell_type": "code",
   "execution_count": 3,
   "metadata": {},
   "outputs": [],
   "source": [
    "df = spark.read.csv(\"codes.csv\", inferSchema=True,\n",
    "                   header=True)"
   ]
  },
  {
   "cell_type": "code",
   "execution_count": 4,
   "metadata": {},
   "outputs": [
    {
     "name": "stdout",
     "output_type": "stream",
     "text": [
      "+-----+-----+\n",
      "|color|fruit|\n",
      "+-----+-----+\n",
      "|    1|  100|\n",
      "|    2|  101|\n",
      "|    3|  102|\n",
      "|    4|  103|\n",
      "|    5|  104|\n",
      "|    1|  100|\n",
      "|    2|  101|\n",
      "|    3|  102|\n",
      "|    4|  103|\n",
      "|    5|  104|\n",
      "|    1|  100|\n",
      "|    2|  101|\n",
      "|    3|  102|\n",
      "|    4|  103|\n",
      "|    5|  104|\n",
      "|    1|  100|\n",
      "|    2|  101|\n",
      "|    3|  102|\n",
      "|    4|  103|\n",
      "|    5|  104|\n",
      "+-----+-----+\n",
      "only showing top 20 rows\n",
      "\n"
     ]
    }
   ],
   "source": [
    "df.show()"
   ]
  },
  {
   "cell_type": "code",
   "execution_count": 5,
   "metadata": {},
   "outputs": [
    {
     "name": "stdout",
     "output_type": "stream",
     "text": [
      "root\n",
      " |-- color: integer (nullable = true)\n",
      " |-- fruit: integer (nullable = true)\n",
      "\n"
     ]
    }
   ],
   "source": [
    "df.printSchema()"
   ]
  },
  {
   "cell_type": "code",
   "execution_count": 6,
   "metadata": {},
   "outputs": [
    {
     "name": "stdout",
     "output_type": "stream",
     "text": [
      "+-----+-----+\n",
      "|color|fruit|\n",
      "+-----+-----+\n",
      "|    1|  100|\n",
      "|    2|  101|\n",
      "|    4|  103|\n",
      "|    5|  104|\n",
      "|    3|  102|\n",
      "+-----+-----+\n",
      "\n"
     ]
    }
   ],
   "source": [
    "df.distinct().show()"
   ]
  },
  {
   "cell_type": "code",
   "execution_count": 7,
   "metadata": {},
   "outputs": [],
   "source": [
    "encoder = OneHotEncoder(inputCols=[\"color\", \"fruit\"],\n",
    "                        outputCols=[\"color_1\", \"fruit_1\"])\n",
    "model = encoder.fit(df)\n",
    "encoded = model.transform(df)\n"
   ]
  },
  {
   "cell_type": "code",
   "execution_count": 8,
   "metadata": {},
   "outputs": [
    {
     "name": "stdout",
     "output_type": "stream",
     "text": [
      "+-----+-----+-------------+-----------------+\n",
      "|color|fruit|color_1      |fruit_1          |\n",
      "+-----+-----+-------------+-----------------+\n",
      "|1    |100  |(5,[1],[1.0])|(104,[100],[1.0])|\n",
      "|2    |101  |(5,[2],[1.0])|(104,[101],[1.0])|\n",
      "|3    |102  |(5,[3],[1.0])|(104,[102],[1.0])|\n",
      "|4    |103  |(5,[4],[1.0])|(104,[103],[1.0])|\n",
      "|5    |104  |(5,[],[])    |(104,[],[])      |\n",
      "|1    |100  |(5,[1],[1.0])|(104,[100],[1.0])|\n",
      "|2    |101  |(5,[2],[1.0])|(104,[101],[1.0])|\n",
      "|3    |102  |(5,[3],[1.0])|(104,[102],[1.0])|\n",
      "|4    |103  |(5,[4],[1.0])|(104,[103],[1.0])|\n",
      "|5    |104  |(5,[],[])    |(104,[],[])      |\n",
      "|1    |100  |(5,[1],[1.0])|(104,[100],[1.0])|\n",
      "|2    |101  |(5,[2],[1.0])|(104,[101],[1.0])|\n",
      "|3    |102  |(5,[3],[1.0])|(104,[102],[1.0])|\n",
      "|4    |103  |(5,[4],[1.0])|(104,[103],[1.0])|\n",
      "|5    |104  |(5,[],[])    |(104,[],[])      |\n",
      "|1    |100  |(5,[1],[1.0])|(104,[100],[1.0])|\n",
      "|2    |101  |(5,[2],[1.0])|(104,[101],[1.0])|\n",
      "|3    |102  |(5,[3],[1.0])|(104,[102],[1.0])|\n",
      "|4    |103  |(5,[4],[1.0])|(104,[103],[1.0])|\n",
      "|5    |104  |(5,[],[])    |(104,[],[])      |\n",
      "+-----+-----+-------------+-----------------+\n",
      "only showing top 20 rows\n",
      "\n"
     ]
    }
   ],
   "source": [
    "encoded.show(truncate=False)"
   ]
  },
  {
   "cell_type": "code",
   "execution_count": 9,
   "metadata": {},
   "outputs": [
    {
     "ename": "NameError",
     "evalue": "name 'hh' is not defined",
     "output_type": "error",
     "traceback": [
      "\u001b[1;31m---------------------------------------------------------------------------\u001b[0m",
      "\u001b[1;31mNameError\u001b[0m                                 Traceback (most recent call last)",
      "\u001b[1;32m<ipython-input-9-9ecdcaba8dbe>\u001b[0m in \u001b[0;36m<module>\u001b[1;34m\u001b[0m\n\u001b[1;32m----> 1\u001b[1;33m \u001b[0mhh\u001b[0m\u001b[1;33m\u001b[0m\u001b[1;33m\u001b[0m\u001b[0m\n\u001b[0m",
      "\u001b[1;31mNameError\u001b[0m: name 'hh' is not defined"
     ]
    }
   ],
   "source": [
    "hh"
   ]
  },
  {
   "cell_type": "code",
   "execution_count": null,
   "metadata": {},
   "outputs": [],
   "source": [
    "df = spark.createDataFrame([\n",
    "    (0.0, 1.0),\n",
    "    (1.0, 0.0),\n",
    "    (2.0, 1.0),\n",
    "    (0.0, 2.0),\n",
    "    (0.0, 1.0),\n",
    "    (2.0, 0.0)\n",
    "], [\"categoryIndex1\", \"categoryIndex2\"])\n",
    "\n",
    "encoder = OneHotEncoder(inputCols=[\"categoryIndex1\", \"categoryIndex2\"],\n",
    "                        outputCols=[\"categoryVec1\", \"categoryVec2\"])\n",
    "model = encoder.fit(df)\n",
    "encoded = model.transform(df)\n",
    "encoded.show()"
   ]
  },
  {
   "cell_type": "code",
   "execution_count": null,
   "metadata": {},
   "outputs": [],
   "source": []
  }
 ],
 "metadata": {
  "kernelspec": {
   "display_name": "Python 3",
   "language": "python",
   "name": "python3"
  },
  "language_info": {
   "codemirror_mode": {
    "name": "ipython",
    "version": 3
   },
   "file_extension": ".py",
   "mimetype": "text/x-python",
   "name": "python",
   "nbconvert_exporter": "python",
   "pygments_lexer": "ipython3",
   "version": "3.8.3"
  }
 },
 "nbformat": 4,
 "nbformat_minor": 4
}
