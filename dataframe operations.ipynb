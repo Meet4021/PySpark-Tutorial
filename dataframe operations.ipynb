{
 "cells": [
  {
   "cell_type": "code",
   "execution_count": 1,
   "metadata": {},
   "outputs": [],
   "source": [
    "from pyspark.sql import SparkSession"
   ]
  },
  {
   "cell_type": "code",
   "execution_count": 2,
   "metadata": {},
   "outputs": [],
   "source": [
    "spark = SparkSession.builder.getOrCreate()"
   ]
  },
  {
   "cell_type": "code",
   "execution_count": 3,
   "metadata": {},
   "outputs": [],
   "source": [
    "df = spark.read.json(\"simple_zipcodes.json\")"
   ]
  },
  {
   "cell_type": "code",
   "execution_count": 4,
   "metadata": {},
   "outputs": [
    {
     "name": "stdout",
     "output_type": "stream",
     "text": [
      "+-------------------+-----+-----------+-------+\n",
      "|               City|State|ZipCodeType|Zipcode|\n",
      "+-------------------+-----+-----------+-------+\n",
      "|        PARC PARQUE|   PR|   STANDARD|    704|\n",
      "|PASEO COSTA DEL SUR|   PR|   STANDARD|    704|\n",
      "|       BDA SAN LUIS|   PR|   STANDARD|    709|\n",
      "|  CINGULAR WIRELESS|   TX|     UNIQUE|  76166|\n",
      "|         FORT WORTH|   TX|   STANDARD|  76177|\n",
      "|           FT WORTH|   TX|   STANDARD|  76177|\n",
      "|    URB EUGENE RICE|   PR|   STANDARD|    704|\n",
      "|               MESA|   AZ|   STANDARD|  85209|\n",
      "|               MESA|   AZ|   STANDARD|  85210|\n",
      "|           HILLIARD|   FL|   STANDARD|  32046|\n",
      "+-------------------+-----+-----------+-------+\n",
      "\n"
     ]
    }
   ],
   "source": [
    "df.show() # this will show us 10 rows by default"
   ]
  },
  {
   "cell_type": "code",
   "execution_count": 5,
   "metadata": {},
   "outputs": [
    {
     "data": {
      "text/plain": [
       "[Row(City='PARC PARQUE', State='PR', ZipCodeType='STANDARD', Zipcode=704),\n",
       " Row(City='PASEO COSTA DEL SUR', State='PR', ZipCodeType='STANDARD', Zipcode=704),\n",
       " Row(City='BDA SAN LUIS', State='PR', ZipCodeType='STANDARD', Zipcode=709),\n",
       " Row(City='CINGULAR WIRELESS', State='TX', ZipCodeType='UNIQUE', Zipcode=76166),\n",
       " Row(City='FORT WORTH', State='TX', ZipCodeType='STANDARD', Zipcode=76177),\n",
       " Row(City='FT WORTH', State='TX', ZipCodeType='STANDARD', Zipcode=76177),\n",
       " Row(City='URB EUGENE RICE', State='PR', ZipCodeType='STANDARD', Zipcode=704),\n",
       " Row(City='MESA', State='AZ', ZipCodeType='STANDARD', Zipcode=85209),\n",
       " Row(City='MESA', State='AZ', ZipCodeType='STANDARD', Zipcode=85210),\n",
       " Row(City='HILLIARD', State='FL', ZipCodeType='STANDARD', Zipcode=32046)]"
      ]
     },
     "execution_count": 5,
     "metadata": {},
     "output_type": "execute_result"
    }
   ],
   "source": [
    "df.collect() #collect returns all records as a list of row objects"
   ]
  },
  {
   "cell_type": "code",
   "execution_count": 6,
   "metadata": {},
   "outputs": [
    {
     "data": {
      "text/plain": [
       "[Row(City='PARC PARQUE', State='PR', ZipCodeType='STANDARD', Zipcode=704),\n",
       " Row(City='PASEO COSTA DEL SUR', State='PR', ZipCodeType='STANDARD', Zipcode=704),\n",
       " Row(City='BDA SAN LUIS', State='PR', ZipCodeType='STANDARD', Zipcode=709),\n",
       " Row(City='CINGULAR WIRELESS', State='TX', ZipCodeType='UNIQUE', Zipcode=76166),\n",
       " Row(City='FORT WORTH', State='TX', ZipCodeType='STANDARD', Zipcode=76177)]"
      ]
     },
     "execution_count": 6,
     "metadata": {},
     "output_type": "execute_result"
    }
   ],
   "source": [
    "df.take(5) # you have to specify the number like 5 or 10"
   ]
  },
  {
   "cell_type": "code",
   "execution_count": 7,
   "metadata": {},
   "outputs": [
    {
     "name": "stdout",
     "output_type": "stream",
     "text": [
      "root\n",
      " |-- City: string (nullable = true)\n",
      " |-- State: string (nullable = true)\n",
      " |-- ZipCodeType: string (nullable = true)\n",
      " |-- Zipcode: long (nullable = true)\n",
      "\n"
     ]
    }
   ],
   "source": [
    "df.printSchema()"
   ]
  },
  {
   "cell_type": "code",
   "execution_count": 8,
   "metadata": {},
   "outputs": [
    {
     "data": {
      "text/plain": [
       "10"
      ]
     },
     "execution_count": 8,
     "metadata": {},
     "output_type": "execute_result"
    }
   ],
   "source": [
    "df.count() #this will give you total no of rows in the df"
   ]
  },
  {
   "cell_type": "code",
   "execution_count": 9,
   "metadata": {},
   "outputs": [
    {
     "name": "stdout",
     "output_type": "stream",
     "text": [
      "+-------------------+\n",
      "|               City|\n",
      "+-------------------+\n",
      "|        PARC PARQUE|\n",
      "|PASEO COSTA DEL SUR|\n",
      "|       BDA SAN LUIS|\n",
      "|  CINGULAR WIRELESS|\n",
      "|         FORT WORTH|\n",
      "|           FT WORTH|\n",
      "|    URB EUGENE RICE|\n",
      "|               MESA|\n",
      "|               MESA|\n",
      "|           HILLIARD|\n",
      "+-------------------+\n",
      "\n"
     ]
    }
   ],
   "source": [
    "df.select(\"City\").show() #you can print columns using select"
   ]
  },
  {
   "cell_type": "code",
   "execution_count": 10,
   "metadata": {},
   "outputs": [
    {
     "name": "stdout",
     "output_type": "stream",
     "text": [
      "+-------------------+-----+\n",
      "|               City|State|\n",
      "+-------------------+-----+\n",
      "|        PARC PARQUE|   PR|\n",
      "|PASEO COSTA DEL SUR|   PR|\n",
      "|       BDA SAN LUIS|   PR|\n",
      "|  CINGULAR WIRELESS|   TX|\n",
      "|         FORT WORTH|   TX|\n",
      "|           FT WORTH|   TX|\n",
      "|    URB EUGENE RICE|   PR|\n",
      "|               MESA|   AZ|\n",
      "|               MESA|   AZ|\n",
      "|           HILLIARD|   FL|\n",
      "+-------------------+-----+\n",
      "\n"
     ]
    }
   ],
   "source": [
    "df.select(\"City\", \"State\").show() #you can print multiple columns"
   ]
  },
  {
   "cell_type": "code",
   "execution_count": 11,
   "metadata": {},
   "outputs": [
    {
     "name": "stdout",
     "output_type": "stream",
     "text": [
      "+-----------------+-----+-----------+-------+\n",
      "|             City|State|ZipCodeType|Zipcode|\n",
      "+-----------------+-----+-----------+-------+\n",
      "|     BDA SAN LUIS|   PR|   STANDARD|    709|\n",
      "|CINGULAR WIRELESS|   TX|     UNIQUE|  76166|\n",
      "|       FORT WORTH|   TX|   STANDARD|  76177|\n",
      "|         FT WORTH|   TX|   STANDARD|  76177|\n",
      "|             MESA|   AZ|   STANDARD|  85209|\n",
      "|             MESA|   AZ|   STANDARD|  85210|\n",
      "|         HILLIARD|   FL|   STANDARD|  32046|\n",
      "+-----------------+-----+-----------+-------+\n",
      "\n"
     ]
    }
   ],
   "source": [
    "df.filter(df[\"Zipcode\"]>704).show()"
   ]
  },
  {
   "cell_type": "code",
   "execution_count": 12,
   "metadata": {},
   "outputs": [
    {
     "name": "stdout",
     "output_type": "stream",
     "text": [
      "+-------+\n",
      "|Zipcode|\n",
      "+-------+\n",
      "|    704|\n",
      "|    704|\n",
      "|    704|\n",
      "+-------+\n",
      "\n"
     ]
    }
   ],
   "source": [
    "df.select(\"Zipcode\").filter(\"Zipcode = 704\").show()"
   ]
  },
  {
   "cell_type": "code",
   "execution_count": 13,
   "metadata": {},
   "outputs": [
    {
     "name": "stdout",
     "output_type": "stream",
     "text": [
      "+----+\n",
      "|City|\n",
      "+----+\n",
      "|MESA|\n",
      "|MESA|\n",
      "+----+\n",
      "\n"
     ]
    }
   ],
   "source": [
    "df.select(\"City\").filter(\"City like 'M%' \").show()"
   ]
  },
  {
   "cell_type": "code",
   "execution_count": 14,
   "metadata": {},
   "outputs": [
    {
     "name": "stdout",
     "output_type": "stream",
     "text": [
      "+-------------------+-----+-----------+-------+\n",
      "|               City|State|ZipCodeType|Zipcode|\n",
      "+-------------------+-----+-----------+-------+\n",
      "|               MESA|   AZ|   STANDARD|  85209|\n",
      "|               MESA|   AZ|   STANDARD|  85210|\n",
      "|           HILLIARD|   FL|   STANDARD|  32046|\n",
      "|       BDA SAN LUIS|   PR|   STANDARD|    709|\n",
      "|        PARC PARQUE|   PR|   STANDARD|    704|\n",
      "|    URB EUGENE RICE|   PR|   STANDARD|    704|\n",
      "|PASEO COSTA DEL SUR|   PR|   STANDARD|    704|\n",
      "|  CINGULAR WIRELESS|   TX|     UNIQUE|  76166|\n",
      "|         FORT WORTH|   TX|   STANDARD|  76177|\n",
      "|           FT WORTH|   TX|   STANDARD|  76177|\n",
      "+-------------------+-----+-----------+-------+\n",
      "\n"
     ]
    }
   ],
   "source": [
    "df.sort(\"State\").show()"
   ]
  },
  {
   "cell_type": "code",
   "execution_count": 15,
   "metadata": {},
   "outputs": [
    {
     "name": "stdout",
     "output_type": "stream",
     "text": [
      "+-------+-----------------+\n",
      "|summary|          Zipcode|\n",
      "+-------+-----------------+\n",
      "|  count|               10|\n",
      "|   mean|          43380.6|\n",
      "| stddev|39635.30844027274|\n",
      "|    min|              704|\n",
      "|    max|            85210|\n",
      "+-------+-----------------+\n",
      "\n"
     ]
    }
   ],
   "source": [
    "df.describe(\"Zipcode\").show() #summary statistics"
   ]
  },
  {
   "cell_type": "code",
   "execution_count": 16,
   "metadata": {},
   "outputs": [
    {
     "ename": "AttributeError",
     "evalue": "'DataFrame' object has no attribute 'min'",
     "output_type": "error",
     "traceback": [
      "\u001b[1;31m---------------------------------------------------------------------------\u001b[0m",
      "\u001b[1;31mAttributeError\u001b[0m                            Traceback (most recent call last)",
      "\u001b[1;32m<ipython-input-16-0c6315429647>\u001b[0m in \u001b[0;36m<module>\u001b[1;34m\u001b[0m\n\u001b[1;32m----> 1\u001b[1;33m \u001b[0mdf\u001b[0m\u001b[1;33m.\u001b[0m\u001b[0mselect\u001b[0m\u001b[1;33m(\u001b[0m\u001b[1;34m\"Zipcode\"\u001b[0m\u001b[1;33m)\u001b[0m\u001b[1;33m.\u001b[0m\u001b[0mmin\u001b[0m\u001b[1;33m(\u001b[0m\u001b[1;33m)\u001b[0m\u001b[1;33m\u001b[0m\u001b[1;33m\u001b[0m\u001b[0m\n\u001b[0m",
      "\u001b[1;32m~\\anaconda3\\lib\\site-packages\\pyspark\\sql\\dataframe.py\u001b[0m in \u001b[0;36m__getattr__\u001b[1;34m(self, name)\u001b[0m\n\u001b[0;32m   1398\u001b[0m         \"\"\"\n\u001b[0;32m   1399\u001b[0m         \u001b[1;32mif\u001b[0m \u001b[0mname\u001b[0m \u001b[1;32mnot\u001b[0m \u001b[1;32min\u001b[0m \u001b[0mself\u001b[0m\u001b[1;33m.\u001b[0m\u001b[0mcolumns\u001b[0m\u001b[1;33m:\u001b[0m\u001b[1;33m\u001b[0m\u001b[1;33m\u001b[0m\u001b[0m\n\u001b[1;32m-> 1400\u001b[1;33m             raise AttributeError(\n\u001b[0m\u001b[0;32m   1401\u001b[0m                 \"'%s' object has no attribute '%s'\" % (self.__class__.__name__, name))\n\u001b[0;32m   1402\u001b[0m         \u001b[0mjc\u001b[0m \u001b[1;33m=\u001b[0m \u001b[0mself\u001b[0m\u001b[1;33m.\u001b[0m\u001b[0m_jdf\u001b[0m\u001b[1;33m.\u001b[0m\u001b[0mapply\u001b[0m\u001b[1;33m(\u001b[0m\u001b[0mname\u001b[0m\u001b[1;33m)\u001b[0m\u001b[1;33m\u001b[0m\u001b[1;33m\u001b[0m\u001b[0m\n",
      "\u001b[1;31mAttributeError\u001b[0m: 'DataFrame' object has no attribute 'min'"
     ]
    }
   ],
   "source": [
    "df.select(\"Zipcode\").min()"
   ]
  },
  {
   "cell_type": "code",
   "execution_count": 17,
   "metadata": {},
   "outputs": [
    {
     "data": {
      "text/plain": [
       "['City', 'State', 'ZipCodeType', 'Zipcode']"
      ]
     },
     "execution_count": 17,
     "metadata": {},
     "output_type": "execute_result"
    }
   ],
   "source": [
    "df.columns"
   ]
  },
  {
   "cell_type": "code",
   "execution_count": 18,
   "metadata": {},
   "outputs": [
    {
     "data": {
      "text/plain": [
       "[('City', 'string'),\n",
       " ('State', 'string'),\n",
       " ('ZipCodeType', 'string'),\n",
       " ('Zipcode', 'bigint')]"
      ]
     },
     "execution_count": 18,
     "metadata": {},
     "output_type": "execute_result"
    }
   ],
   "source": [
    "df.dtypes"
   ]
  },
  {
   "cell_type": "code",
   "execution_count": 19,
   "metadata": {},
   "outputs": [
    {
     "ename": "TypeError",
     "evalue": "describe() got an unexpected keyword argument 'deciles'",
     "output_type": "error",
     "traceback": [
      "\u001b[1;31m---------------------------------------------------------------------------\u001b[0m",
      "\u001b[1;31mTypeError\u001b[0m                                 Traceback (most recent call last)",
      "\u001b[1;32m<ipython-input-19-12445b483b53>\u001b[0m in \u001b[0;36m<module>\u001b[1;34m\u001b[0m\n\u001b[1;32m----> 1\u001b[1;33m \u001b[0mdf\u001b[0m\u001b[1;33m.\u001b[0m\u001b[0mdescribe\u001b[0m\u001b[1;33m(\u001b[0m\u001b[1;34m\"Zipcode\"\u001b[0m\u001b[1;33m,\u001b[0m \u001b[0mdeciles\u001b[0m\u001b[1;33m=\u001b[0m\u001b[1;32mTrue\u001b[0m\u001b[1;33m)\u001b[0m\u001b[1;33m.\u001b[0m\u001b[0mshow\u001b[0m\u001b[1;33m(\u001b[0m\u001b[1;33m)\u001b[0m \u001b[1;31m#summary statistics\u001b[0m\u001b[1;33m\u001b[0m\u001b[1;33m\u001b[0m\u001b[0m\n\u001b[0m",
      "\u001b[1;31mTypeError\u001b[0m: describe() got an unexpected keyword argument 'deciles'"
     ]
    }
   ],
   "source": [
    "df.describe(\"Zipcode\", deciles=True).show() #summary statistics"
   ]
  },
  {
   "cell_type": "code",
   "execution_count": null,
   "metadata": {},
   "outputs": [],
   "source": []
  }
 ],
 "metadata": {
  "kernelspec": {
   "display_name": "Python 3",
   "language": "python",
   "name": "python3"
  },
  "language_info": {
   "codemirror_mode": {
    "name": "ipython",
    "version": 3
   },
   "file_extension": ".py",
   "mimetype": "text/x-python",
   "name": "python",
   "nbconvert_exporter": "python",
   "pygments_lexer": "ipython3",
   "version": "3.8.3"
  }
 },
 "nbformat": 4,
 "nbformat_minor": 4
}
